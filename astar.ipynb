{
 "cells": [
  {
   "cell_type": "code",
   "execution_count": 7,
   "id": "527eb362",
   "metadata": {},
   "outputs": [
    {
     "name": "stdout",
     "output_type": "stream",
     "text": [
      "path found ['A', 'B', 'D']\n"
     ]
    },
    {
     "data": {
      "text/plain": [
       "['A', 'B', 'D']"
      ]
     },
     "execution_count": 7,
     "metadata": {},
     "output_type": "execute_result"
    }
   ],
   "source": [
    "from collections import deque\n",
    "\n",
    "class Graph:\n",
    "    def __init__(self, adjac_lis):\n",
    "        self.adjac_lis = adjac_lis\n",
    "        \n",
    "    def get_neightbors(self, v):\n",
    "        return self.adjac_lis[v]\n",
    "    \n",
    "    def h(self,n):\n",
    "        H={\n",
    "            'A':1,\n",
    "            'B':1,\n",
    "            'C':1,\n",
    "            'D':1\n",
    "        }\n",
    "        return H[n]\n",
    "    \n",
    "    def a_star(self, start, stop):\n",
    "        open_lst = set([start])\n",
    "        closed_lst = set([])\n",
    "        poo = {}\n",
    "        poo[start] = 0\n",
    "        par = {}\n",
    "        par[start] = start\n",
    "        \n",
    "        while len(open_lst)>0:\n",
    "            n = None\n",
    "            for v in open_lst:\n",
    "                if n == None or poo[v]+self.h(v)<poo[n]+self.h(n):\n",
    "                    n = v\n",
    "                    \n",
    "            if n == None:\n",
    "                print(\"No path\")\n",
    "                return\n",
    "            \n",
    "            if n == stop:\n",
    "                recont_path = []\n",
    "                \n",
    "                while par[n]!=n:\n",
    "                    recont_path.append(n)\n",
    "                    n = par[n]\n",
    "                    \n",
    "                recont_path.append(start)\n",
    "                recont_path.reverse()\n",
    "                \n",
    "                print('path found {}'.format(recont_path))\n",
    "                return recont_path\n",
    "            \n",
    "            for (m,weight) in self.get_neightbors(n):\n",
    "                if m not in open_lst and m not in closed_lst:\n",
    "                    open_lst.add(m)\n",
    "                    par[m]=n\n",
    "                    poo[m] = poo[n]+weight\n",
    "                    \n",
    "                else:\n",
    "                    if poo[m]>poo[n]+weight:\n",
    "                        poo[m]=poo[n]+weight\n",
    "                        par[m] = n\n",
    "                        \n",
    "                        if m in closed_lst:\n",
    "                            closed_lst.remove(m)\n",
    "                            open_lst.add(m)\n",
    "                            \n",
    "            open_lst.remove(n)\n",
    "            closed_lst.add(n)\n",
    "        \n",
    "        print(\"No path\")\n",
    "        return\n",
    "    \n",
    "adjac_lis={\n",
    " 'A':[('B',1),('C',3),('D',7)],\n",
    " 'B':[('D',5)],\n",
    " 'C':[('D',12)]\n",
    "}\n",
    "\n",
    "graph1 = Graph(adjac_lis)\n",
    "graph1.a_star('A','D')\n",
    "                        "
   ]
  },
  {
   "cell_type": "code",
   "execution_count": null,
   "id": "ac82edcc",
   "metadata": {},
   "outputs": [],
   "source": []
  }
 ],
 "metadata": {
  "kernelspec": {
   "display_name": "Python 3",
   "language": "python",
   "name": "python3"
  },
  "language_info": {
   "codemirror_mode": {
    "name": "ipython",
    "version": 3
   },
   "file_extension": ".py",
   "mimetype": "text/x-python",
   "name": "python",
   "nbconvert_exporter": "python",
   "pygments_lexer": "ipython3",
   "version": "3.8.8"
  }
 },
 "nbformat": 4,
 "nbformat_minor": 5
}
